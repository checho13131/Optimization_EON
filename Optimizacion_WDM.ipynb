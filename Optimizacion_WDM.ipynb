{
 "cells": [
  {
   "cell_type": "code",
   "execution_count": 1,
   "id": "0cdb6131",
   "metadata": {},
   "outputs": [
    {
     "name": "stdout",
     "output_type": "stream",
     "text": [
      "Collecting ortools\n",
      "  Using cached ortools-9.8.3296-cp310-cp310-win_amd64.whl (101.1 MB)\n",
      "Requirement already satisfied: protobuf>=4.25.0 in c:\\users\\xexo1\\anaconda33\\lib\\site-packages (from ortools) (4.25.1)\n",
      "Requirement already satisfied: pandas>=2.0.0 in c:\\users\\xexo1\\anaconda33\\lib\\site-packages (from ortools) (2.1.3)\n",
      "Requirement already satisfied: absl-py>=2.0.0 in c:\\users\\xexo1\\anaconda33\\lib\\site-packages (from ortools) (2.0.0)\n",
      "Requirement already satisfied: numpy>=1.13.3 in c:\\users\\xexo1\\anaconda33\\lib\\site-packages (from ortools) (1.23.5)\n",
      "Requirement already satisfied: python-dateutil>=2.8.2 in c:\\users\\xexo1\\anaconda33\\lib\\site-packages (from pandas>=2.0.0->ortools) (2.8.2)\n",
      "Requirement already satisfied: tzdata>=2022.1 in c:\\users\\xexo1\\anaconda33\\lib\\site-packages (from pandas>=2.0.0->ortools) (2023.3)\n",
      "Requirement already satisfied: pytz>=2020.1 in c:\\users\\xexo1\\anaconda33\\lib\\site-packages (from pandas>=2.0.0->ortools) (2022.7)\n",
      "Requirement already satisfied: six>=1.5 in c:\\users\\xexo1\\anaconda33\\lib\\site-packages (from python-dateutil>=2.8.2->pandas>=2.0.0->ortools) (1.16.0)\n",
      "Installing collected packages: ortools\n",
      "Successfully installed ortools-9.8.3296\n",
      "Note: you may need to restart the kernel to use updated packages.\n"
     ]
    }
   ],
   "source": [
    "pip install ortools"
   ]
  },
  {
   "cell_type": "code",
   "execution_count": 1,
   "id": "29d19d35",
   "metadata": {},
   "outputs": [
    {
     "name": "stdout",
     "output_type": "stream",
     "text": [
      "Total cost = 11.0\n",
      "User 4 is connected to ONU 1\n",
      "User 1 is connected to ONU 2\n",
      "User 3 is connected to ONU 2\n",
      "User 7 is connected to ONU 3\n",
      "User 9 is connected to ONU 5\n",
      "User 0 is connected to ONU 6\n",
      "User 8 is connected to ONU 7\n",
      "User 2 is connected to ONU 8\n",
      "User 6 is connected to ONU 11\n",
      "User 5 is connected to ONU 15\n"
     ]
    }
   ],
   "source": [
    "# Importamos el módulo pywraplp de ortools, que nos ayudara con herramientas para la creación y solución de problemas de programación lineal.\n",
    "from ortools.linear_solver import pywraplp\n",
    "import random\n",
    "\n",
    "# Definimos una función para resolver el problema de asignación de ONUs.\n",
    "def solve_onu_assignment(num_onus, num_users, U, distances):\n",
    "    # Creamos un nuevo solucionador utilizando el backend SCIP, que es uno de los solucionadores disponibles en ortools.\n",
    "    solver = pywraplp.Solver.CreateSolver('SCIP')\n",
    "    \n",
    "    # Si el solucionador no se encuentra, lanzamos una excepción.\n",
    "    if not solver:\n",
    "        raise Exception('Solver not found.')\n",
    "    \n",
    "    # Creamos un diccionario para almacenar las variables de decisión. \n",
    "    # Cada variable representa si un usuario u está conectado a una ONU o (1 si está conectado, 0 si no).\n",
    "    x = {}\n",
    "    for o in range(num_onus):\n",
    "        for u in range(num_users):\n",
    "            x[o, u] = solver.BoolVar(f'x[{o},{u}]')\n",
    "    \n",
    "    # Se define la función objetivo, que es minimizar el costo total.\n",
    "    solver.Minimize(solver.Sum([distances[o, u] * x[o, u] for o in range(num_onus) for u in range(num_users)]))\n",
    "    \n",
    "    # Agregamos restricciones para asegurar que cada usuario esté conectado exactamente a una ONU.\n",
    "    for u in range(num_users):\n",
    "        solver.Add(solver.Sum([x[o, u] for o in range(num_onus)]) == 1)\n",
    "    \n",
    "    # Agregamos restricciones para asegurar que cada ONU no maneje más de U usuarios.\n",
    "    for o in range(num_onus):\n",
    "        solver.Add(solver.Sum([x[o, u] for u in range(num_users)]) <= U)\n",
    "    \n",
    "    # Solicitamos al solucionador que encuentre una solución óptima.\n",
    "    status = solver.Solve()\n",
    "    \n",
    "    # Evaluamos el estado de la solución. Si es óptima, imprimimos el valor de la función objetivo\n",
    "    # y la asignación de usuarios a ONUs. Si no hay solución óptima, informamos al usuario.\n",
    "    if status == pywraplp.Solver.OPTIMAL:\n",
    "        print('Total cost =', solver.Objective().Value())\n",
    "        for o in range(num_onus):\n",
    "            for u in range(num_users):\n",
    "                if x[o, u].solution_value() > 0:\n",
    "                    print(f'User {u} is connected to ONU {o}')\n",
    "    else:\n",
    "        print('The problem does not have an optimal solution.')\n",
    "\n",
    "# Se plantea un ejemplo para utilizar la función.\n",
    "# Se stablecen el número de ONUs y usuarios, la capacidad máxima de usuarios por ONU,\n",
    "# ademas de un diccionario de distancias.\n",
    "\n",
    "# Ejemplo para utilizar la función.\n",
    "num_onus = 20 # Número de ONUs\n",
    "num_users = 10 # Número de usuarios\n",
    "U = 2 # Número máximo de usuarios por ONU\n",
    "\n",
    "# Se crea un diccionario de distancias vacío.\n",
    "distances = {}\n",
    "\n",
    "# Se puede rellenar este diccionario 'distances' con los valores que se deseen utilizar.\n",
    "# Función que calcula las distancias basándose en datos de entrada.\n",
    "for o in range(num_onus):\n",
    "    for u in range(num_users):\n",
    "        # Aquí se asignan las distancias aleatoria. Se propone un ejemplo entre 1 y 10.\n",
    "        distances[(o, u)] = random.randint(1, 10) \n",
    "\n",
    "# Se llama a la función con el diccionario de distancias como parámetro para poder generar la solucion.\n",
    "solve_onu_assignment(num_onus, num_users, U, distances)"
   ]
  },
  {
   "cell_type": "code",
   "execution_count": null,
   "id": "0a997d82",
   "metadata": {},
   "outputs": [],
   "source": []
  }
 ],
 "metadata": {
  "kernelspec": {
   "display_name": "Python 3 (ipykernel)",
   "language": "python",
   "name": "python3"
  },
  "language_info": {
   "codemirror_mode": {
    "name": "ipython",
    "version": 3
   },
   "file_extension": ".py",
   "mimetype": "text/x-python",
   "name": "python",
   "nbconvert_exporter": "python",
   "pygments_lexer": "ipython3",
   "version": "3.10.9"
  }
 },
 "nbformat": 4,
 "nbformat_minor": 5
}
